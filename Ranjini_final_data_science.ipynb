{
 "cells": [
  {
   "cell_type": "markdown",
   "metadata": {},
   "source": [
    "# Task 1. Data Collection\n",
    "1.Select three of the 9 news categories: [Books, Business, Film,Life-and-Style, Music, Politics, Sport, UK-News, US-News]\n",
    "2.From the link above, retrieve details regarding all stories corresponding to your three selected categories, covering all months January to December 2020. For each story you will need to parse the HTML to extract the following information:\n",
    "- The title of the news story.\n",
    "- The short text snippet for the story which represents the start of the complete news article.\n",
    "- The category label assigned to the story."
   ]
  },
  {
   "cell_type": "code",
   "execution_count": null,
   "metadata": {},
   "outputs": [],
   "source": [
    "import requests as r\n",
    "from bs4 import BeautifulSoup as soup\n",
    "from urllib.request import urlopen as Ureq\n",
    "import pandas as pd\n",
    "import numpy as np\n",
    "import csv"
   ]
  },
  {
   "cell_type": "code",
   "execution_count": 64,
   "metadata": {},
   "outputs": [],
   "source": [
    "months = [\"jan\",\"feb\",\"mar\",\"apr\",\"may\",\"jun\",\"jul\",\"aug\",\"sep\",\"oct\",\"nov\",\"dec\"]\n",
    "filename = \"newsdata_final_1.csv\"\n",
    "f = open(filename,\"a\")\n",
    "headers = \"Category|Title|Snippet\\n\"\n",
    "f.write(headers)\n",
    "        \n",
    "for month in months:\n",
    "    my_url = \"http://mlg.ucd.ie/modules/COMP41680/assignment2/month-\"+str(month)+\"-001\"+\".html\"\n",
    "    uclient = Ureq(my_url)\n",
    "    page_html = uclient.read()\n",
    "    uclient.close()\n",
    "    page_soup = soup(page_html,\"html.parser\")\n",
    "#         print(page_soup.prettify())\n",
    "        \n",
    "    pages = page_soup.findAll(\"h4\",{\"class\":\"results\"})\n",
    "\n",
    "    max_pages = int(str(pages)[-8:].replace(\"</h4>]\", \"\"))\n",
    "\n",
    "    \n",
    "    for page in range(1,max_pages+1):\n",
    "        if page < 10:\n",
    "            my_url = \"http://mlg.ucd.ie/modules/COMP41680/assignment2/month-\"+str(month)+\"-00\"+str(page)+\".html\"\n",
    "        else:\n",
    "            my_url = \"http://mlg.ucd.ie/modules/COMP41680/assignment2/month-\"+str(month)+\"-0\"+str(page)+\".html\"        \n",
    "        uclient = Ureq(my_url)\n",
    "        page_html = uclient.read()\n",
    "        uclient.close()\n",
    "        page_soup = soup(page_html,\"html.parser\")\n",
    "\n",
    "#         print(page_soup.prettify())\n",
    "        containers = page_soup.findAll(\"div\",{\"class\":\"article\"})\n",
    "\n",
    "        \n",
    "        for container in containers:\n",
    "            title = container.a.text # giving title\n",
    "            snippet_container = container.findAll(\"p\",{\"class\":\"snippet\"})\n",
    "            snip = snippet_container[0].text\n",
    "            category_container = container.findAll(\"p\",{\"class\":\"metadata\"})\n",
    "            \n",
    "            category = category_container[1].text.strip()\n",
    "            chosen_category = ['Category: Business','Category: Politics','Category: Sport']\n",
    "          \n",
    "            if category in chosen_category:\n",
    "                my_category = category\n",
    "                my_category = my_category.replace(\"Category: \", \"\")\n",
    "                title = title.replace(\"Title: \", \"\")\n",
    "                snip = snip.replace(\"Snippet: \", \"\")\n",
    "\n",
    "                f.write(my_category+\"|\"+title+\"|\"+snip+\"\\n\")\n",
    "f.close()\n"
   ]
  },
  {
   "cell_type": "markdown",
   "metadata": {},
   "source": [
    "# Task 2. Binary Text Classification"
   ]
  },
  {
   "cell_type": "markdown",
   "metadata": {},
   "source": [
    "1.Load the data from Task 1 and create a set of documents, one per news story. \n",
    "Each document should consist of the concatenation of the story’s title and text snippet. \n",
    "Each document should also have a class label, based on the story’s news category.\n",
    "2.For each unique pair of categories (A,B) from the three that you selected:\n",
    "- Apply appropriate preprocessing steps to create a numeric representation of the documents from these two categories, suitable for classification.\n",
    "- Train a classification model using a binary classifier of your choice, which can distinguish documents in category A from documents in category B.\n",
    "- Test the predictions of the classification model using an appropriate evaluation strategy. Report and discuss the evaluation results."
   ]
  },
  {
   "cell_type": "code",
   "execution_count": 510,
   "metadata": {},
   "outputs": [
    {
     "data": {
      "text/plain": [
       "Index(['Category', 'Title', 'Snippet'], dtype='object')"
      ]
     },
     "execution_count": 510,
     "metadata": {},
     "output_type": "execute_result"
    }
   ],
   "source": [
    "import pandas as pd\n",
    "df = pd.read_csv(r\"newsdata_final_1.csv\",delimiter = \"|\")\n",
    "df.shape\n",
    "df.columns"
   ]
  },
  {
   "cell_type": "code",
   "execution_count": 511,
   "metadata": {},
   "outputs": [],
   "source": [
    "def label(row):\n",
    "    if row['Category'] == \"Business\":  # Business ->0\n",
    "        val = 0\n",
    "    elif row['Category'] == \"Sport\":   # Sport ->1\n",
    "        val = 1\n",
    "    else:                              # Politics ->2\n",
    "        val = 2\n",
    "    return val"
   ]
  },
  {
   "cell_type": "code",
   "execution_count": 512,
   "metadata": {},
   "outputs": [
    {
     "data": {
      "text/html": [
       "<div>\n",
       "<style scoped>\n",
       "    .dataframe tbody tr th:only-of-type {\n",
       "        vertical-align: middle;\n",
       "    }\n",
       "\n",
       "    .dataframe tbody tr th {\n",
       "        vertical-align: top;\n",
       "    }\n",
       "\n",
       "    .dataframe thead th {\n",
       "        text-align: right;\n",
       "    }\n",
       "</style>\n",
       "<table border=\"1\" class=\"dataframe\">\n",
       "  <thead>\n",
       "    <tr style=\"text-align: right;\">\n",
       "      <th></th>\n",
       "      <th>Category</th>\n",
       "      <th>Title</th>\n",
       "      <th>Snippet</th>\n",
       "      <th>Label</th>\n",
       "    </tr>\n",
       "  </thead>\n",
       "  <tbody>\n",
       "    <tr>\n",
       "      <th>0</th>\n",
       "      <td>Business</td>\n",
       "      <td>Zero-carbon electricity outstrips fossil fuels...</td>\n",
       "      <td>Summary: Zero-carbon energy became Britain’s l...</td>\n",
       "      <td>0</td>\n",
       "    </tr>\n",
       "    <tr>\n",
       "      <th>1</th>\n",
       "      <td>Sport</td>\n",
       "      <td>Twenty athletes set to light up the Tokyo 2020...</td>\n",
       "      <td>Dina Asher-Smith Great Britain Athletics, 100m...</td>\n",
       "      <td>1</td>\n",
       "    </tr>\n",
       "    <tr>\n",
       "      <th>2</th>\n",
       "      <td>Business</td>\n",
       "      <td>US election, Brexit and China to sway the mark...</td>\n",
       "      <td>After profiting from strong markets in 2019, i...</td>\n",
       "      <td>0</td>\n",
       "    </tr>\n",
       "    <tr>\n",
       "      <th>3</th>\n",
       "      <td>Politics</td>\n",
       "      <td>Clive Lewis calls for unity among Labour leade...</td>\n",
       "      <td>Summary: The Labour leadership hopeful Clive L...</td>\n",
       "      <td>2</td>\n",
       "    </tr>\n",
       "    <tr>\n",
       "      <th>4</th>\n",
       "      <td>Sport</td>\n",
       "      <td>Michael van Gerwen 3-7 Peter Wright: PDC world...</td>\n",
       "      <td>Summary: That’s it for tonight’s blog, so I’ll...</td>\n",
       "      <td>1</td>\n",
       "    </tr>\n",
       "  </tbody>\n",
       "</table>\n",
       "</div>"
      ],
      "text/plain": [
       "   Category                                              Title  \\\n",
       "0  Business  Zero-carbon electricity outstrips fossil fuels...   \n",
       "1     Sport  Twenty athletes set to light up the Tokyo 2020...   \n",
       "2  Business  US election, Brexit and China to sway the mark...   \n",
       "3  Politics  Clive Lewis calls for unity among Labour leade...   \n",
       "4     Sport  Michael van Gerwen 3-7 Peter Wright: PDC world...   \n",
       "\n",
       "                                             Snippet  Label  \n",
       "0  Summary: Zero-carbon energy became Britain’s l...      0  \n",
       "1  Dina Asher-Smith Great Britain Athletics, 100m...      1  \n",
       "2  After profiting from strong markets in 2019, i...      0  \n",
       "3  Summary: The Labour leadership hopeful Clive L...      2  \n",
       "4  Summary: That’s it for tonight’s blog, so I’ll...      1  "
      ]
     },
     "execution_count": 512,
     "metadata": {},
     "output_type": "execute_result"
    }
   ],
   "source": [
    "df['Label']= df.apply(label,axis=1)\n",
    "df.head(5) # label for each category 0->Business, 1->Sport , 2 ->Politics"
   ]
  },
  {
   "cell_type": "markdown",
   "metadata": {},
   "source": [
    "Each unique pair of categories (A,B)\n",
    "- Business or non business stories(A,B)\n",
    "- Sport and non sport stories(A,B)\n",
    "- Politics and non politics stories(A,B)"
   ]
  },
  {
   "cell_type": "markdown",
   "metadata": {},
   "source": [
    "Binary classification dataset \n",
    "Our documents here are given by the *Business* column.Our target variable is given by the *Business* column,\n",
    "where 1 indicates an Business stories and 0 indicates a non-Business stories."
   ]
  },
  {
   "cell_type": "code",
   "execution_count": 513,
   "metadata": {},
   "outputs": [
    {
     "data": {
      "text/html": [
       "<div>\n",
       "<style scoped>\n",
       "    .dataframe tbody tr th:only-of-type {\n",
       "        vertical-align: middle;\n",
       "    }\n",
       "\n",
       "    .dataframe tbody tr th {\n",
       "        vertical-align: top;\n",
       "    }\n",
       "\n",
       "    .dataframe thead th {\n",
       "        text-align: right;\n",
       "    }\n",
       "</style>\n",
       "<table border=\"1\" class=\"dataframe\">\n",
       "  <thead>\n",
       "    <tr style=\"text-align: right;\">\n",
       "      <th></th>\n",
       "      <th>Category</th>\n",
       "      <th>Title</th>\n",
       "      <th>Snippet</th>\n",
       "      <th>Label</th>\n",
       "      <th>Business</th>\n",
       "    </tr>\n",
       "  </thead>\n",
       "  <tbody>\n",
       "    <tr>\n",
       "      <th>0</th>\n",
       "      <td>Business</td>\n",
       "      <td>Zero-carbon electricity outstrips fossil fuels...</td>\n",
       "      <td>Summary: Zero-carbon energy became Britain’s l...</td>\n",
       "      <td>0</td>\n",
       "      <td>1</td>\n",
       "    </tr>\n",
       "    <tr>\n",
       "      <th>1</th>\n",
       "      <td>Sport</td>\n",
       "      <td>Twenty athletes set to light up the Tokyo 2020...</td>\n",
       "      <td>Dina Asher-Smith Great Britain Athletics, 100m...</td>\n",
       "      <td>1</td>\n",
       "      <td>0</td>\n",
       "    </tr>\n",
       "    <tr>\n",
       "      <th>2</th>\n",
       "      <td>Business</td>\n",
       "      <td>US election, Brexit and China to sway the mark...</td>\n",
       "      <td>After profiting from strong markets in 2019, i...</td>\n",
       "      <td>0</td>\n",
       "      <td>1</td>\n",
       "    </tr>\n",
       "    <tr>\n",
       "      <th>3</th>\n",
       "      <td>Politics</td>\n",
       "      <td>Clive Lewis calls for unity among Labour leade...</td>\n",
       "      <td>Summary: The Labour leadership hopeful Clive L...</td>\n",
       "      <td>2</td>\n",
       "      <td>0</td>\n",
       "    </tr>\n",
       "    <tr>\n",
       "      <th>4</th>\n",
       "      <td>Sport</td>\n",
       "      <td>Michael van Gerwen 3-7 Peter Wright: PDC world...</td>\n",
       "      <td>Summary: That’s it for tonight’s blog, so I’ll...</td>\n",
       "      <td>1</td>\n",
       "      <td>0</td>\n",
       "    </tr>\n",
       "    <tr>\n",
       "      <th>5</th>\n",
       "      <td>Business</td>\n",
       "      <td>Greggs launches meatless steak bake to beef up...</td>\n",
       "      <td>Greggs, the UK’s largest bakery chain, will en...</td>\n",
       "      <td>0</td>\n",
       "      <td>1</td>\n",
       "    </tr>\n",
       "    <tr>\n",
       "      <th>6</th>\n",
       "      <td>Politics</td>\n",
       "      <td>Sadiq Khan pledges free London travel for disa...</td>\n",
       "      <td>Sadiq Khan has kickstarted his bid for a secon...</td>\n",
       "      <td>2</td>\n",
       "      <td>0</td>\n",
       "    </tr>\n",
       "    <tr>\n",
       "      <th>7</th>\n",
       "      <td>Sport</td>\n",
       "      <td>Talking Horses: picking the five best races of...</td>\n",
       "      <td>You might take the view that the end of the de...</td>\n",
       "      <td>1</td>\n",
       "      <td>0</td>\n",
       "    </tr>\n",
       "    <tr>\n",
       "      <th>8</th>\n",
       "      <td>Sport</td>\n",
       "      <td>England ready for tortoise and hare race in se...</td>\n",
       "      <td>As Harold Macmillan is supposed to have explai...</td>\n",
       "      <td>1</td>\n",
       "      <td>0</td>\n",
       "    </tr>\n",
       "    <tr>\n",
       "      <th>9</th>\n",
       "      <td>Politics</td>\n",
       "      <td>Whitehall reforms may lead to discrimination, ...</td>\n",
       "      <td>Boris Johnson’s “seismic” Whitehall reforms, i...</td>\n",
       "      <td>2</td>\n",
       "      <td>0</td>\n",
       "    </tr>\n",
       "  </tbody>\n",
       "</table>\n",
       "</div>"
      ],
      "text/plain": [
       "   Category                                              Title  \\\n",
       "0  Business  Zero-carbon electricity outstrips fossil fuels...   \n",
       "1     Sport  Twenty athletes set to light up the Tokyo 2020...   \n",
       "2  Business  US election, Brexit and China to sway the mark...   \n",
       "3  Politics  Clive Lewis calls for unity among Labour leade...   \n",
       "4     Sport  Michael van Gerwen 3-7 Peter Wright: PDC world...   \n",
       "5  Business  Greggs launches meatless steak bake to beef up...   \n",
       "6  Politics  Sadiq Khan pledges free London travel for disa...   \n",
       "7     Sport  Talking Horses: picking the five best races of...   \n",
       "8     Sport  England ready for tortoise and hare race in se...   \n",
       "9  Politics  Whitehall reforms may lead to discrimination, ...   \n",
       "\n",
       "                                             Snippet  Label  Business  \n",
       "0  Summary: Zero-carbon energy became Britain’s l...      0         1  \n",
       "1  Dina Asher-Smith Great Britain Athletics, 100m...      1         0  \n",
       "2  After profiting from strong markets in 2019, i...      0         1  \n",
       "3  Summary: The Labour leadership hopeful Clive L...      2         0  \n",
       "4  Summary: That’s it for tonight’s blog, so I’ll...      1         0  \n",
       "5  Greggs, the UK’s largest bakery chain, will en...      0         1  \n",
       "6  Sadiq Khan has kickstarted his bid for a secon...      2         0  \n",
       "7  You might take the view that the end of the de...      1         0  \n",
       "8  As Harold Macmillan is supposed to have explai...      1         0  \n",
       "9  Boris Johnson’s “seismic” Whitehall reforms, i...      2         0  "
      ]
     },
     "execution_count": 513,
     "metadata": {},
     "output_type": "execute_result"
    }
   ],
   "source": [
    "import numpy as np\n",
    "df['Business'] = np.where(df['Category']== 'Business', 1,0) # Business stories is set to 1\n",
    "df.head(10)"
   ]
  },
  {
   "cell_type": "markdown",
   "metadata": {},
   "source": [
    "Apply appropriate preprocessing steps to create a numeric representation of the documents from these two categories, suitable for classification."
   ]
  },
  {
   "cell_type": "code",
   "execution_count": 514,
   "metadata": {},
   "outputs": [
    {
     "name": "stderr",
     "output_type": "stream",
     "text": [
      "[nltk_data] Downloading package wordnet to\n",
      "[nltk_data]     /Users/ranjinimourya/nltk_data...\n",
      "[nltk_data]   Package wordnet is already up-to-date!\n"
     ]
    }
   ],
   "source": [
    "#importing libraries and packages for Text Preprocessing\n",
    "import re \n",
    "import nltk\n",
    "nltk.download('wordnet')\n",
    "from sklearn.feature_extraction import text\n",
    "stopwords = text.ENGLISH_STOP_WORDS\n",
    "# print(stopwords)\n",
    "from nltk.stem import PorterStemmer\n",
    "stemmer = PorterStemmer()\n",
    "from nltk.stem import WordNetLemmatizer\n",
    "lemmatizer = WordNetLemmatizer()"
   ]
  },
  {
   "cell_type": "markdown",
   "metadata": {},
   "source": [
    "Tokenizing is breaking down of sentence into words.So we break down the cleaned data into words.\n",
    "Data Cleaning , removing puntuations and symbols."
   ]
  },
  {
   "cell_type": "code",
   "execution_count": 515,
   "metadata": {},
   "outputs": [],
   "source": [
    "def cleaner(data): #function to clean the data\n",
    "    \n",
    "    new_data = str(data)\n",
    "    data_lower = new_data.lower()\n",
    "    rem_num = re.sub('[0-9]+', '', data_lower) # numbers are removed \n",
    "    clean_data = re.sub(r'[^\\w\\s]','',str(rem_num))  # data is cleaned\n",
    "    words = nltk.word_tokenize(clean_data) #tokenize\n",
    "    words = [w for w in words if not w in stopwords] # stopwords are removed\n",
    "    return words"
   ]
  },
  {
   "cell_type": "code",
   "execution_count": 516,
   "metadata": {},
   "outputs": [
    {
     "data": {
      "text/plain": [
       "0       [zerocarbon, electricity, outstrips, fossil, f...\n",
       "1                 [athletes, set, light, tokyo, olympics]\n",
       "2                [election, brexit, china, sway, markets]\n",
       "3       [clive, lewis, calls, unity, labour, leadershi...\n",
       "4       [michael, van, gerwen, peter, wright, pdc, wor...\n",
       "                              ...                        \n",
       "5439    [city, watchdog, relaxes, trading, rules, hour...\n",
       "5440    [dover, eerily, quiet, brexit, eve, hauliers, ...\n",
       "5441    [chess, magnus, carlsen, deep, funk, latest, d...\n",
       "5442    [toby, flood, leading, newcastle, revival, jon...\n",
       "5443    [brexit, crisis, fanfare, uk, finally, ends, e...\n",
       "Name: clean_title, Length: 5444, dtype: object"
      ]
     },
     "execution_count": 516,
     "metadata": {},
     "output_type": "execute_result"
    }
   ],
   "source": [
    "df['clean_title']= df['Title'].apply(cleaner) # Title is cleaned here\n",
    "df['clean_title']"
   ]
  },
  {
   "cell_type": "code",
   "execution_count": 517,
   "metadata": {},
   "outputs": [
    {
     "data": {
      "text/plain": [
       "0       [summary, zerocarbon, energy, britains, larges...\n",
       "1       [dina, ashersmith, great, britain, athletics, ...\n",
       "2       [profiting, strong, markets, investors, expect...\n",
       "3       [summary, labour, leadership, hopeful, clive, ...\n",
       "4       [summary, thats, tonights, blog, ill, leave, r...\n",
       "                              ...                        \n",
       "5439    [summary, citys, financial, regulator, relaxed...\n",
       "5440    [week, mayhem, roads, kent, eerily, deserted, ...\n",
       "5441    [magnus, carlsens, erratic, form, th, birthday...\n",
       "5442    [summary, amid, cluster, young, english, flyha...\n",
       "5443    [years, weeks, days, referendum, split, countr...\n",
       "Name: clean_snippet, Length: 5444, dtype: object"
      ]
     },
     "execution_count": 517,
     "metadata": {},
     "output_type": "execute_result"
    }
   ],
   "source": [
    "df['clean_snippet']= df['Snippet'].apply(cleaner) # Snippet is cleaned here\n",
    "df['clean_snippet']"
   ]
  },
  {
   "cell_type": "markdown",
   "metadata": {},
   "source": [
    "We can see the data being cleaned in that respective row.\n",
    "We can see the difference between original text an dthe cleaned text.Cleaned texts seem to be more clear and more readable and is ready for the classification."
   ]
  },
  {
   "cell_type": "markdown",
   "metadata": {},
   "source": [
    "Classification and Evaluation:"
   ]
  },
  {
   "cell_type": "code",
   "execution_count": 518,
   "metadata": {},
   "outputs": [],
   "source": [
    "#importing the libraries for classification and evaluation\n",
    "import pandas as pd\n",
    "from sklearn.feature_extraction.text import CountVectorizer, TfidfTransformer\n",
    "from sklearn.model_selection import train_test_split\n",
    "from sklearn.neighbors import KNeighborsClassifier\n",
    "from sklearn.linear_model import SGDClassifier\n",
    "from sklearn.metrics import accuracy_score, precision_score, recall_score, f1_score\n",
    "from sklearn.metrics import classification_report, confusion_matrix, ConfusionMatrixDisplay\n",
    "from sklearn.model_selection import cross_val_score, RepeatedKFold\n",
    "%matplotlib inline"
   ]
  },
  {
   "cell_type": "markdown",
   "metadata": {},
   "source": [
    "# Binary classifer - 1 \n",
    "1.Business or non business stories(A,B) 0 = Non-Business, 1 = Business"
   ]
  },
  {
   "cell_type": "code",
   "execution_count": 519,
   "metadata": {},
   "outputs": [],
   "source": [
    "target_categories_1 = [\"Non-Business\", \"Business\"]\n",
    "my_target_1 = df[\"Business\"]\n",
    "my_documents_1 = df['Title']"
   ]
  },
  {
   "cell_type": "code",
   "execution_count": 520,
   "metadata": {},
   "outputs": [
    {
     "data": {
      "text/plain": [
       "0    3627\n",
       "1    1817\n",
       "Name: Business, dtype: int64"
      ]
     },
     "execution_count": 520,
     "metadata": {},
     "output_type": "execute_result"
    }
   ],
   "source": [
    "my_target_1.value_counts() # counting the business and non business stories"
   ]
  },
  {
   "cell_type": "code",
   "execution_count": 521,
   "metadata": {},
   "outputs": [
    {
     "name": "stdout",
     "output_type": "stream",
     "text": [
      "(5444, 875)\n"
     ]
    }
   ],
   "source": [
    "vectorizer = CountVectorizer(min_df = 10, stop_words=\"english\") #Filter terms appearing in < 10 documents\n",
    "X = vectorizer.fit_transform(my_documents_1) \n",
    "print(X.shape)  "
   ]
  },
  {
   "cell_type": "code",
   "execution_count": 522,
   "metadata": {},
   "outputs": [
    {
     "name": "stdout",
     "output_type": "stream",
     "text": [
      "Vocabulary has 875 distinct terms\n"
     ]
    }
   ],
   "source": [
    "terms = vectorizer.get_feature_names() \n",
    "print(\"Vocabulary has %d distinct terms\" % len(terms))"
   ]
  },
  {
   "cell_type": "code",
   "execution_count": 523,
   "metadata": {},
   "outputs": [
    {
     "name": "stdout",
     "output_type": "stream",
     "text": [
      "['cup', 'customers', 'cut', 'cuts', 'cycling', 'daily', 'damage', 'data', 'david', 'day', 'days', 'deal', 'death', 'deaths', 'debate', 'debt', 'decision', 'defeat', 'defence', 'defends', 'delay', 'delivery', 'demand', 'denies', 'der', 'derby', 'despite', 'did', 'dividend', 'dividends', 'djokovic', 'does', 'dominic', 'don', 'donald', 'door', 'doors', 'double']\n"
     ]
    }
   ],
   "source": [
    "print(terms[200:238])"
   ]
  },
  {
   "cell_type": "markdown",
   "metadata": {},
   "source": [
    "## Classification and Evaluation \n",
    "Firstly, we will look at building a k-NN model, and evaluating its performance using a single training/test split.\n",
    "Split the data, so that we have 80% in the training set and 20% in the test set:"
   ]
  },
  {
   "cell_type": "code",
   "execution_count": 524,
   "metadata": {},
   "outputs": [
    {
     "data": {
      "text/plain": [
       "scipy.sparse.csr.csr_matrix"
      ]
     },
     "execution_count": 524,
     "metadata": {},
     "output_type": "execute_result"
    }
   ],
   "source": [
    "data_train, data_test, target_train, target_test = train_test_split(X, my_target, test_size=0.2)# my_target is Business\n",
    "data_train # with 19952 stored elements  -->Training data\n",
    "data_test # with 5045 stored elements ---> Testing data\n",
    "type(data_train) # sparse matrix"
   ]
  },
  {
   "cell_type": "code",
   "execution_count": 525,
   "metadata": {},
   "outputs": [
    {
     "name": "stdout",
     "output_type": "stream",
     "text": [
      "Training set has 4355 examples\n",
      "Test set has 1089 examples\n"
     ]
    }
   ],
   "source": [
    "print(\"Training set has %d examples\" % data_train.shape[0] )\n",
    "print(\"Test set has %d examples\" % data_test.shape[0])"
   ]
  },
  {
   "cell_type": "code",
   "execution_count": 526,
   "metadata": {},
   "outputs": [
    {
     "data": {
      "text/plain": [
       "KNeighborsClassifier(n_neighbors=4)"
      ]
     },
     "execution_count": 526,
     "metadata": {},
     "output_type": "execute_result"
    }
   ],
   "source": [
    "model = KNeighborsClassifier(n_neighbors=4) # Defining the KNN model to nearest neighbour of 4\n",
    "model.fit(data_train, target_train) "
   ]
  },
  {
   "cell_type": "markdown",
   "metadata": {},
   "source": [
    "Make predictions for the titles in the test set. \n",
    "Remember that 1 indicates an Business stories and 0 indicates a Non-Business stories."
   ]
  },
  {
   "cell_type": "code",
   "execution_count": 527,
   "metadata": {},
   "outputs": [
    {
     "data": {
      "text/plain": [
       "array([0, 0, 0, ..., 0, 0, 0])"
      ]
     },
     "execution_count": 527,
     "metadata": {},
     "output_type": "execute_result"
    }
   ],
   "source": [
    "predicted = model.predict(data_test) # Predicting the test results\n",
    "predicted"
   ]
  },
  {
   "cell_type": "markdown",
   "metadata": {},
   "source": [
    "Evaluation of  the performance of the classifier. \n",
    "Firstly, we can just look at the overall accuracy."
   ]
  },
  {
   "cell_type": "code",
   "execution_count": 528,
   "metadata": {},
   "outputs": [
    {
     "name": "stdout",
     "output_type": "stream",
     "text": [
      "Accuracy = 0.7401\n"
     ]
    }
   ],
   "source": [
    "print(\"Accuracy = %.4f\" % accuracy_score(target_test, predicted)) # 74% accuracy"
   ]
  },
  {
   "cell_type": "code",
   "execution_count": 529,
   "metadata": {},
   "outputs": [
    {
     "data": {
      "image/png": "[encoded data removed]",
      "text/plain": [
       "<Figure size 432x288 with 2 Axes>"
      ]
     },
     "metadata": {
      "needs_background": "light"
     },
     "output_type": "display_data"
    }
   ],
   "source": [
    "#confusion matrix \n",
    "cm = confusion_matrix(target_test, predicted, labels=[0,1])\n",
    "# display it graphically\n",
    "cmd = ConfusionMatrixDisplay(cm, display_labels=target_categories)\n",
    "cmd.plot();"
   ]
  },
  {
   "cell_type": "markdown",
   "metadata": {},
   "source": [
    "precision score: The precision is intuitively the ability of the classifier not to label as positive a sample that is negative.\n",
    "recall scores: The recall is intuitively the ability of the classifier to find all the positive samples."
   ]
  },
  {
   "cell_type": "code",
   "execution_count": 530,
   "metadata": {},
   "outputs": [
    {
     "name": "stdout",
     "output_type": "stream",
     "text": [
      "Precision (Business) = 0.8306\n",
      "Recall (Business) = 0.2822\n"
     ]
    }
   ],
   "source": [
    "print(\"Precision (Business) = %.4f\" % precision_score(target_test, predicted, pos_label=1) )\n",
    "print(\"Recall (Business) = %.4f\" % recall_score(target_test, predicted, pos_label=1) )"
   ]
  },
  {
   "cell_type": "code",
   "execution_count": 531,
   "metadata": {},
   "outputs": [
    {
     "name": "stdout",
     "output_type": "stream",
     "text": [
      "F1 (Business) = 0.4213\n",
      "F1 (Non-Business) = 0.8324\n"
     ]
    }
   ],
   "source": [
    "#F1-score, is a measure of a model's accuracy on a dataset\n",
    "print(\"F1 (Business) = %.4f\" % f1_score(target_test, predicted, pos_label=1) )\n",
    "print(\"F1 (Non-Business) = %.4f\" % f1_score(target_test, predicted, pos_label=0) )"
   ]
  },
  {
   "cell_type": "markdown",
   "metadata": {},
   "source": [
    "The *classification_report()* functions provides a convenient way of summarising all of this information. \n",
    "*support* here indicates the number of actual occurrences of a class in the test data."
   ]
  },
  {
   "cell_type": "code",
   "execution_count": 532,
   "metadata": {},
   "outputs": [
    {
     "name": "stdout",
     "output_type": "stream",
     "text": [
      "              precision    recall  f1-score   support\n",
      "\n",
      "Non-Business       0.73      0.97      0.83       724\n",
      "    Business       0.83      0.28      0.42       365\n",
      "\n",
      "    accuracy                           0.74      1089\n",
      "   macro avg       0.78      0.63      0.63      1089\n",
      "weighted avg       0.76      0.74      0.69      1089\n",
      "\n"
     ]
    }
   ],
   "source": [
    " print(classification_report(target_test, predicted, target_names=target_categories))"
   ]
  },
  {
   "cell_type": "markdown",
   "metadata": {},
   "source": [
    "# Binary classifer - 2 \n",
    "1.Sport or non sport stories(A,B) 0 = Non-sport, 1 = Sport"
   ]
  },
  {
   "cell_type": "code",
   "execution_count": 537,
   "metadata": {},
   "outputs": [
    {
     "data": {
      "text/html": [
       "<div>\n",
       "<style scoped>\n",
       "    .dataframe tbody tr th:only-of-type {\n",
       "        vertical-align: middle;\n",
       "    }\n",
       "\n",
       "    .dataframe tbody tr th {\n",
       "        vertical-align: top;\n",
       "    }\n",
       "\n",
       "    .dataframe thead th {\n",
       "        text-align: right;\n",
       "    }\n",
       "</style>\n",
       "<table border=\"1\" class=\"dataframe\">\n",
       "  <thead>\n",
       "    <tr style=\"text-align: right;\">\n",
       "      <th></th>\n",
       "      <th>Category</th>\n",
       "      <th>Title</th>\n",
       "      <th>Snippet</th>\n",
       "      <th>Label</th>\n",
       "      <th>Business</th>\n",
       "      <th>Sport</th>\n",
       "    </tr>\n",
       "  </thead>\n",
       "  <tbody>\n",
       "    <tr>\n",
       "      <th>0</th>\n",
       "      <td>Business</td>\n",
       "      <td>Zero-carbon electricity outstrips fossil fuels...</td>\n",
       "      <td>Summary: Zero-carbon energy became Britain’s l...</td>\n",
       "      <td>0</td>\n",
       "      <td>1</td>\n",
       "      <td>0</td>\n",
       "    </tr>\n",
       "    <tr>\n",
       "      <th>1</th>\n",
       "      <td>Sport</td>\n",
       "      <td>Twenty athletes set to light up the Tokyo 2020...</td>\n",
       "      <td>Dina Asher-Smith Great Britain Athletics, 100m...</td>\n",
       "      <td>1</td>\n",
       "      <td>0</td>\n",
       "      <td>1</td>\n",
       "    </tr>\n",
       "    <tr>\n",
       "      <th>2</th>\n",
       "      <td>Business</td>\n",
       "      <td>US election, Brexit and China to sway the mark...</td>\n",
       "      <td>After profiting from strong markets in 2019, i...</td>\n",
       "      <td>0</td>\n",
       "      <td>1</td>\n",
       "      <td>0</td>\n",
       "    </tr>\n",
       "    <tr>\n",
       "      <th>3</th>\n",
       "      <td>Politics</td>\n",
       "      <td>Clive Lewis calls for unity among Labour leade...</td>\n",
       "      <td>Summary: The Labour leadership hopeful Clive L...</td>\n",
       "      <td>2</td>\n",
       "      <td>0</td>\n",
       "      <td>0</td>\n",
       "    </tr>\n",
       "    <tr>\n",
       "      <th>4</th>\n",
       "      <td>Sport</td>\n",
       "      <td>Michael van Gerwen 3-7 Peter Wright: PDC world...</td>\n",
       "      <td>Summary: That’s it for tonight’s blog, so I’ll...</td>\n",
       "      <td>1</td>\n",
       "      <td>0</td>\n",
       "      <td>1</td>\n",
       "    </tr>\n",
       "  </tbody>\n",
       "</table>\n",
       "</div>"
      ],
      "text/plain": [
       "   Category                                              Title  \\\n",
       "0  Business  Zero-carbon electricity outstrips fossil fuels...   \n",
       "1     Sport  Twenty athletes set to light up the Tokyo 2020...   \n",
       "2  Business  US election, Brexit and China to sway the mark...   \n",
       "3  Politics  Clive Lewis calls for unity among Labour leade...   \n",
       "4     Sport  Michael van Gerwen 3-7 Peter Wright: PDC world...   \n",
       "\n",
       "                                             Snippet  Label  Business  Sport  \n",
       "0  Summary: Zero-carbon energy became Britain’s l...      0         1      0  \n",
       "1  Dina Asher-Smith Great Britain Athletics, 100m...      1         0      1  \n",
       "2  After profiting from strong markets in 2019, i...      0         1      0  \n",
       "3  Summary: The Labour leadership hopeful Clive L...      2         0      0  \n",
       "4  Summary: That’s it for tonight’s blog, so I’ll...      1         0      1  "
      ]
     },
     "execution_count": 537,
     "metadata": {},
     "output_type": "execute_result"
    }
   ],
   "source": [
    "import numpy as np\n",
    "df['Sport'] = np.where(df['Category']== 'Sport', 1,0) # Sport stories is set to 1\n",
    "df.head(5)"
   ]
  },
  {
   "cell_type": "code",
   "execution_count": 538,
   "metadata": {},
   "outputs": [],
   "source": [
    "target_categories_2 = [\"Non-Sport\", \"Sport\"]\n",
    "my_target_2 = df[\"Sport\"]\n",
    "my_documents_2 = df['Snippet']"
   ]
  },
  {
   "cell_type": "code",
   "execution_count": 539,
   "metadata": {},
   "outputs": [
    {
     "name": "stdout",
     "output_type": "stream",
     "text": [
      "(5444, 1781)\n"
     ]
    }
   ],
   "source": [
    "vectorizer = CountVectorizer(min_df = 10, stop_words=None)\n",
    "X = vectorizer.fit_transform(my_documents_2)\n",
    "print(X.shape)"
   ]
  },
  {
   "cell_type": "code",
   "execution_count": 540,
   "metadata": {},
   "outputs": [],
   "source": [
    "## Classification and Evaluation \n",
    "data_train, data_test, target_train, target_test = train_test_split(X, my_target_2, test_size=0.3)"
   ]
  },
  {
   "cell_type": "code",
   "execution_count": 541,
   "metadata": {},
   "outputs": [
    {
     "name": "stdout",
     "output_type": "stream",
     "text": [
      "Training set has 3810 examples\n",
      "Test set has 1634 examples\n"
     ]
    }
   ],
   "source": [
    "print(\"Training set has %d examples\" % data_train.shape[0] )\n",
    "print(\"Test set has %d examples\" % data_test.shape[0] )"
   ]
  },
  {
   "cell_type": "code",
   "execution_count": 542,
   "metadata": {},
   "outputs": [
    {
     "data": {
      "text/plain": [
       "KNeighborsClassifier(n_neighbors=3)"
      ]
     },
     "execution_count": 542,
     "metadata": {},
     "output_type": "execute_result"
    }
   ],
   "source": [
    "model = KNeighborsClassifier(n_neighbors=3) # Building our KNN model(nearest to 3)\n",
    "model.fit(data_train, target_train) # fiiting our data to the model we have created."
   ]
  },
  {
   "cell_type": "code",
   "execution_count": 543,
   "metadata": {},
   "outputs": [
    {
     "data": {
      "text/plain": [
       "array([1, 0, 0, ..., 0, 1, 0])"
      ]
     },
     "execution_count": 543,
     "metadata": {},
     "output_type": "execute_result"
    }
   ],
   "source": [
    "predicted = model.predict(data_test) # our model results\n",
    "predicted"
   ]
  },
  {
   "cell_type": "code",
   "execution_count": 544,
   "metadata": {},
   "outputs": [
    {
     "name": "stdout",
     "output_type": "stream",
     "text": [
      "Accuracy = 0.6946\n"
     ]
    }
   ],
   "source": [
    "print(\"Accuracy = %.4f\" % accuracy_score(target_test, predicted))\n",
    "# The ouput shows 69% of accuracy when we test the our model."
   ]
  },
  {
   "cell_type": "code",
   "execution_count": 545,
   "metadata": {},
   "outputs": [
    {
     "data": {
      "image/png": "[encoded data removed]",
      "text/plain": [
       "<Figure size 432x288 with 2 Axes>"
      ]
     },
     "metadata": {
      "needs_background": "light"
     },
     "output_type": "display_data"
    }
   ],
   "source": [
    "cm = confusion_matrix(target_test, predicted, labels=[0,1])\n",
    "cmd = ConfusionMatrixDisplay(cm, display_labels=target_categories_2)\n",
    "cmd.plot();"
   ]
  },
  {
   "cell_type": "code",
   "execution_count": 546,
   "metadata": {},
   "outputs": [
    {
     "name": "stdout",
     "output_type": "stream",
     "text": [
      "F1 (Sport) = 0.5484\n",
      "F1 (Non-Sport) = 0.7693\n"
     ]
    }
   ],
   "source": [
    "print(\"F1 (Sport) = %.4f\" % f1_score(target_test, predicted, pos_label=1) )\n",
    "print(\"F1 (Non-Sport) = %.4f\" % f1_score(target_test, predicted, pos_label=0) )"
   ]
  },
  {
   "cell_type": "code",
   "execution_count": 547,
   "metadata": {},
   "outputs": [
    {
     "name": "stdout",
     "output_type": "stream",
     "text": [
      "Precision (Sport) = 0.5509\n",
      "Recall (Sport) = 0.5459\n"
     ]
    }
   ],
   "source": [
    "print(\"Precision (Sport) = %.4f\" % precision_score(target_test, predicted, pos_label=1) )\n",
    "print(\"Recall (Sport) = %.4f\" % recall_score(target_test, predicted, pos_label=1) )"
   ]
  },
  {
   "cell_type": "code",
   "execution_count": 548,
   "metadata": {},
   "outputs": [
    {
     "name": "stdout",
     "output_type": "stream",
     "text": [
      "Precision (Non-Sport) = 0.7675\n",
      "Recall (Non-Sport) = 0.7711\n"
     ]
    }
   ],
   "source": [
    "print(\"Precision (Non-Sport) = %.4f\" % precision_score(target_test, predicted, pos_label=0) )\n",
    "print(\"Recall (Non-Sport) = %.4f\" % recall_score(target_test, predicted, pos_label=0) )"
   ]
  },
  {
   "cell_type": "code",
   "execution_count": 549,
   "metadata": {},
   "outputs": [
    {
     "name": "stdout",
     "output_type": "stream",
     "text": [
      "              precision    recall  f1-score   support\n",
      "\n",
      "   Non-Sport       0.77      0.77      0.77      1079\n",
      "       Sport       0.55      0.55      0.55       555\n",
      "\n",
      "    accuracy                           0.69      1634\n",
      "   macro avg       0.66      0.66      0.66      1634\n",
      "weighted avg       0.69      0.69      0.69      1634\n",
      "\n"
     ]
    }
   ],
   "source": [
    "print(classification_report(target_test, predicted, target_names=target_categories_2))"
   ]
  },
  {
   "cell_type": "markdown",
   "metadata": {},
   "source": [
    "# Binary classifer - 3\n",
    "1.Sport or non sport stories(A,B) 0 = Non-Politics, 1 = Politics"
   ]
  },
  {
   "cell_type": "code",
   "execution_count": 551,
   "metadata": {},
   "outputs": [
    {
     "data": {
      "text/html": [
       "<div>\n",
       "<style scoped>\n",
       "    .dataframe tbody tr th:only-of-type {\n",
       "        vertical-align: middle;\n",
       "    }\n",
       "\n",
       "    .dataframe tbody tr th {\n",
       "        vertical-align: top;\n",
       "    }\n",
       "\n",
       "    .dataframe thead th {\n",
       "        text-align: right;\n",
       "    }\n",
       "</style>\n",
       "<table border=\"1\" class=\"dataframe\">\n",
       "  <thead>\n",
       "    <tr style=\"text-align: right;\">\n",
       "      <th></th>\n",
       "      <th>Category</th>\n",
       "      <th>Title</th>\n",
       "      <th>Snippet</th>\n",
       "      <th>Label</th>\n",
       "      <th>Business</th>\n",
       "      <th>Sport</th>\n",
       "      <th>Politics</th>\n",
       "    </tr>\n",
       "  </thead>\n",
       "  <tbody>\n",
       "    <tr>\n",
       "      <th>0</th>\n",
       "      <td>Business</td>\n",
       "      <td>Zero-carbon electricity outstrips fossil fuels...</td>\n",
       "      <td>Summary: Zero-carbon energy became Britain’s l...</td>\n",
       "      <td>0</td>\n",
       "      <td>1</td>\n",
       "      <td>0</td>\n",
       "      <td>0</td>\n",
       "    </tr>\n",
       "    <tr>\n",
       "      <th>1</th>\n",
       "      <td>Sport</td>\n",
       "      <td>Twenty athletes set to light up the Tokyo 2020...</td>\n",
       "      <td>Dina Asher-Smith Great Britain Athletics, 100m...</td>\n",
       "      <td>1</td>\n",
       "      <td>0</td>\n",
       "      <td>1</td>\n",
       "      <td>0</td>\n",
       "    </tr>\n",
       "    <tr>\n",
       "      <th>2</th>\n",
       "      <td>Business</td>\n",
       "      <td>US election, Brexit and China to sway the mark...</td>\n",
       "      <td>After profiting from strong markets in 2019, i...</td>\n",
       "      <td>0</td>\n",
       "      <td>1</td>\n",
       "      <td>0</td>\n",
       "      <td>0</td>\n",
       "    </tr>\n",
       "    <tr>\n",
       "      <th>3</th>\n",
       "      <td>Politics</td>\n",
       "      <td>Clive Lewis calls for unity among Labour leade...</td>\n",
       "      <td>Summary: The Labour leadership hopeful Clive L...</td>\n",
       "      <td>2</td>\n",
       "      <td>0</td>\n",
       "      <td>0</td>\n",
       "      <td>1</td>\n",
       "    </tr>\n",
       "    <tr>\n",
       "      <th>4</th>\n",
       "      <td>Sport</td>\n",
       "      <td>Michael van Gerwen 3-7 Peter Wright: PDC world...</td>\n",
       "      <td>Summary: That’s it for tonight’s blog, so I’ll...</td>\n",
       "      <td>1</td>\n",
       "      <td>0</td>\n",
       "      <td>1</td>\n",
       "      <td>0</td>\n",
       "    </tr>\n",
       "  </tbody>\n",
       "</table>\n",
       "</div>"
      ],
      "text/plain": [
       "   Category                                              Title  \\\n",
       "0  Business  Zero-carbon electricity outstrips fossil fuels...   \n",
       "1     Sport  Twenty athletes set to light up the Tokyo 2020...   \n",
       "2  Business  US election, Brexit and China to sway the mark...   \n",
       "3  Politics  Clive Lewis calls for unity among Labour leade...   \n",
       "4     Sport  Michael van Gerwen 3-7 Peter Wright: PDC world...   \n",
       "\n",
       "                                             Snippet  Label  Business  Sport  \\\n",
       "0  Summary: Zero-carbon energy became Britain’s l...      0         1      0   \n",
       "1  Dina Asher-Smith Great Britain Athletics, 100m...      1         0      1   \n",
       "2  After profiting from strong markets in 2019, i...      0         1      0   \n",
       "3  Summary: The Labour leadership hopeful Clive L...      2         0      0   \n",
       "4  Summary: That’s it for tonight’s blog, so I’ll...      1         0      1   \n",
       "\n",
       "   Politics  \n",
       "0         0  \n",
       "1         0  \n",
       "2         0  \n",
       "3         1  \n",
       "4         0  "
      ]
     },
     "execution_count": 551,
     "metadata": {},
     "output_type": "execute_result"
    }
   ],
   "source": [
    "import numpy as np\n",
    "df['Politics'] = np.where(df['Category']== 'Politics', 1,0) # Politics stories is set to 1\n",
    "df.head(5)"
   ]
  },
  {
   "cell_type": "code",
   "execution_count": 552,
   "metadata": {},
   "outputs": [],
   "source": [
    "target_categories_3 = [\"Non-Politics\", \"Politics\"]\n",
    "my_target_3 = df[\"Politics\"]\n",
    "my_documents_3 = df['Snippet']"
   ]
  },
  {
   "cell_type": "code",
   "execution_count": 553,
   "metadata": {},
   "outputs": [
    {
     "name": "stdout",
     "output_type": "stream",
     "text": [
      "(5444, 1781)\n"
     ]
    }
   ],
   "source": [
    "vectorizer = CountVectorizer(min_df = 10, stop_words=None)\n",
    "X = vectorizer.fit_transform(my_documents_3)\n",
    "print(X.shape)"
   ]
  },
  {
   "cell_type": "code",
   "execution_count": 554,
   "metadata": {},
   "outputs": [],
   "source": [
    "## Classification and Evaluation \n",
    "data_train_3, data_test_3, target_train_3, target_test_3 = train_test_split(X, my_target_3, test_size=0.2)\n",
    "#test data being 20%"
   ]
  },
  {
   "cell_type": "code",
   "execution_count": 555,
   "metadata": {},
   "outputs": [
    {
     "name": "stdout",
     "output_type": "stream",
     "text": [
      "Training set has 4355 examples\n",
      "Test set has 1089 examples\n"
     ]
    }
   ],
   "source": [
    "print(\"Training set has %d examples\" % data_train_3.shape[0] )\n",
    "print(\"Test set has %d examples\" % data_test_3.shape[0] )"
   ]
  },
  {
   "cell_type": "code",
   "execution_count": 556,
   "metadata": {},
   "outputs": [
    {
     "data": {
      "text/plain": [
       "KNeighborsClassifier(n_neighbors=3)"
      ]
     },
     "execution_count": 556,
     "metadata": {},
     "output_type": "execute_result"
    }
   ],
   "source": [
    "model = KNeighborsClassifier(n_neighbors=3) # Building our KNN model(nearest to 3)\n",
    "model.fit(data_train_3, target_train_3) # fiiting our data to the model we have created."
   ]
  },
  {
   "cell_type": "code",
   "execution_count": 557,
   "metadata": {},
   "outputs": [
    {
     "data": {
      "text/plain": [
       "array([1, 0, 0, ..., 0, 0, 0])"
      ]
     },
     "execution_count": 557,
     "metadata": {},
     "output_type": "execute_result"
    }
   ],
   "source": [
    "predicted = model.predict(data_test_3) # our model results\n",
    "predicted"
   ]
  },
  {
   "cell_type": "code",
   "execution_count": 560,
   "metadata": {},
   "outputs": [
    {
     "name": "stdout",
     "output_type": "stream",
     "text": [
      "Accuracy = 0.7199\n"
     ]
    }
   ],
   "source": [
    "print(\"Accuracy = %.4f\" % accuracy_score(target_test_3, predicted))\n",
    "# The ouput shows 71% of accuracy when we test the our model."
   ]
  },
  {
   "cell_type": "code",
   "execution_count": 561,
   "metadata": {},
   "outputs": [
    {
     "data": {
      "image/png": "[encoded data removed]",
      "text/plain": [
       "<Figure size 432x288 with 2 Axes>"
      ]
     },
     "metadata": {
      "needs_background": "light"
     },
     "output_type": "display_data"
    }
   ],
   "source": [
    "cm = confusion_matrix(target_test_3, predicted, labels=[0,1])\n",
    "cmd = ConfusionMatrixDisplay(cm, display_labels=target_categories_3)\n",
    "cmd.plot();"
   ]
  },
  {
   "cell_type": "code",
   "execution_count": 562,
   "metadata": {},
   "outputs": [
    {
     "name": "stdout",
     "output_type": "stream",
     "text": [
      "F1 (Politics) = 0.4857\n",
      "F1 (Non-Politics) = 0.8076\n"
     ]
    }
   ],
   "source": [
    "print(\"F1 (Politics) = %.4f\" % f1_score(target_test_3, predicted, pos_label=1) )\n",
    "print(\"F1 (Non-Politics) = %.4f\" % f1_score(target_test_3, predicted, pos_label=0) )"
   ]
  },
  {
   "cell_type": "code",
   "execution_count": 563,
   "metadata": {},
   "outputs": [
    {
     "name": "stdout",
     "output_type": "stream",
     "text": [
      "Precision (Politics) = 0.5603\n",
      "Recall (Politics) = 0.4286\n"
     ]
    }
   ],
   "source": [
    "print(\"Precision (Politics) = %.4f\" % precision_score(target_test_3, predicted, pos_label=1) )\n",
    "print(\"Recall (Politics) = %.4f\" % recall_score(target_test_3, predicted, pos_label=1) )"
   ]
  },
  {
   "cell_type": "code",
   "execution_count": 564,
   "metadata": {},
   "outputs": [
    {
     "name": "stdout",
     "output_type": "stream",
     "text": [
      "Precision (Non-Politics) = 0.7692\n",
      "Recall (Non-Politics) = 0.8499\n"
     ]
    }
   ],
   "source": [
    "print(\"Precision (Non-Politics) = %.4f\" % precision_score(target_test_3, predicted, pos_label=0) )\n",
    "print(\"Recall (Non-Politics) = %.4f\" % recall_score(target_test_3, predicted, pos_label=0) )"
   ]
  },
  {
   "cell_type": "code",
   "execution_count": 565,
   "metadata": {},
   "outputs": [
    {
     "name": "stdout",
     "output_type": "stream",
     "text": [
      "              precision    recall  f1-score   support\n",
      "\n",
      "Non-Politics       0.77      0.85      0.81       753\n",
      "    Politics       0.56      0.43      0.49       336\n",
      "\n",
      "    accuracy                           0.72      1089\n",
      "   macro avg       0.66      0.64      0.65      1089\n",
      "weighted avg       0.70      0.72      0.71      1089\n",
      "\n"
     ]
    }
   ],
   "source": [
    "print(classification_report(target_test_3, predicted, target_names=target_categories_3))"
   ]
  },
  {
   "cell_type": "markdown",
   "metadata": {},
   "source": [
    "# Task 3. Multi-Class Text Classification"
   ]
  },
  {
   "cell_type": "markdown",
   "metadata": {},
   "source": [
    "1.Using all three categories (A,B,C) that you have selected:\n",
    "-Apply appropriate preprocessing steps to create a numeric representation of the documents for these three categories, suitable for classification.\n",
    "-Train a classification model using a multi-class classifier of your choice, which can distinguish documents from the categories A, B, and C.\n",
    "-Test the predictions of the classification model using an appropriate evaluation strategy. Report and discuss the evaluation results."
   ]
  },
  {
   "cell_type": "code",
   "execution_count": 566,
   "metadata": {},
   "outputs": [],
   "source": [
    "my_documents_4 = df['Title']\n",
    "my_target_4 = df['Label']"
   ]
  },
  {
   "cell_type": "code",
   "execution_count": 567,
   "metadata": {},
   "outputs": [
    {
     "name": "stdout",
     "output_type": "stream",
     "text": [
      "(5444, 1026)\n"
     ]
    }
   ],
   "source": [
    "vectorizer = CountVectorizer(min_df = 10, stop_words=None)\n",
    "X = vectorizer.fit_transform(my_documents_4)\n",
    "print(X.shape)"
   ]
  },
  {
   "cell_type": "code",
   "execution_count": 568,
   "metadata": {},
   "outputs": [],
   "source": [
    "## Classification and Evaluation \n",
    "data_train_4, data_test_4, target_train_4, target_test_4 = train_test_split(X, my_target_4, test_size=0.3)\n",
    "#test data being 30%"
   ]
  },
  {
   "cell_type": "code",
   "execution_count": 569,
   "metadata": {},
   "outputs": [
    {
     "name": "stdout",
     "output_type": "stream",
     "text": [
      "Training set has 3810 examples\n",
      "Test set has 1634 examples\n"
     ]
    }
   ],
   "source": [
    "print(\"Training set has %d examples\" % data_train_4.shape[0] )\n",
    "print(\"Test set has %d examples\" % data_test_4.shape[0] )"
   ]
  },
  {
   "cell_type": "code",
   "execution_count": 570,
   "metadata": {},
   "outputs": [],
   "source": [
    "# training a DescisionTreeClassifier\n",
    "from sklearn.tree import DecisionTreeClassifier\n",
    "dtree_model = DecisionTreeClassifier(max_depth = 2).fit(data_train_4, target_train_4)\n",
    "dtree_predictions = dtree_model.predict(data_test_4)"
   ]
  },
  {
   "cell_type": "code",
   "execution_count": 571,
   "metadata": {},
   "outputs": [
    {
     "name": "stdout",
     "output_type": "stream",
     "text": [
      "Accuracy = 0.41432\n"
     ]
    }
   ],
   "source": [
    "print(\"Accuracy = %.5f\" % accuracy_score(target_test_4, dtree_predictions))"
   ]
  },
  {
   "cell_type": "code",
   "execution_count": 572,
   "metadata": {},
   "outputs": [
    {
     "data": {
      "image/png": "[encoded data removed]",
      "text/plain": [
       "<Figure size 432x288 with 2 Axes>"
      ]
     },
     "metadata": {
      "needs_background": "light"
     },
     "output_type": "display_data"
    }
   ],
   "source": [
    "target_categories_4 = [\"Business\",\"Sport\",\"Politics\"]\n",
    "# creating a confusion matrix\n",
    "cm = confusion_matrix(target_test_4, dtree_predictions)\n",
    "cmd = ConfusionMatrixDisplay(cm, display_labels=target_categories_4)\n",
    "cmd.plot();"
   ]
  },
  {
   "cell_type": "code",
   "execution_count": 576,
   "metadata": {},
   "outputs": [
    {
     "name": "stdout",
     "output_type": "stream",
     "text": [
      "              precision    recall  f1-score   support\n",
      "\n",
      "    Business       0.00      0.00      0.00       563\n",
      "       Sport       0.36      1.00      0.53       525\n",
      "    Politics       0.90      0.28      0.43       546\n",
      "\n",
      "    accuracy                           0.41      1634\n",
      "   macro avg       0.42      0.43      0.32      1634\n",
      "weighted avg       0.42      0.41      0.31      1634\n",
      "\n"
     ]
    }
   ],
   "source": [
    "print(classification_report(target_test_4, dtree_predictions,target_names=target_categories_4))"
   ]
  },
  {
   "cell_type": "code",
   "execution_count": null,
   "metadata": {},
   "outputs": [],
   "source": []
  }
 ],
 "metadata": {
  "kernelspec": {
   "display_name": "Python 3",
   "language": "python",
   "name": "python3"
  },
  "language_info": {
   "codemirror_mode": {
    "name": "ipython",
    "version": 3
   },
   "file_extension": ".py",
   "mimetype": "text/x-python",
   "name": "python",
   "nbconvert_exporter": "python",
   "pygments_lexer": "ipython3",
   "version": "3.8.5"
  }
 },
 "nbformat": 4,
 "nbformat_minor": 4
}
